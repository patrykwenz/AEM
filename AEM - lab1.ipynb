{
 "cells": [
  {
   "cell_type": "markdown",
   "id": "soviet-frederick",
   "metadata": {},
   "source": [
    "# Algorytmy ewolucyjne i metaheurystyczne - Heurystyki konstrukcyjne"
   ]
  },
  {
   "cell_type": "markdown",
   "id": "downtown-world",
   "metadata": {},
   "source": [
    "**Install libs**"
   ]
  },
  {
   "cell_type": "code",
   "execution_count": 55,
   "id": "impressive-warehouse",
   "metadata": {
    "collapsed": true
   },
   "outputs": [
    {
     "name": "stdout",
     "output_type": "stream",
     "text": [
      "Requirement already satisfied: requests in c:\\users\\patryk\\appdata\\local\\programs\\python\\python38\\lib\\site-packages (2.25.1)\n",
      "Requirement already satisfied: urllib3<1.27,>=1.21.1 in c:\\users\\patryk\\appdata\\local\\programs\\python\\python38\\lib\\site-packages (from requests) (1.26.3)\n",
      "Requirement already satisfied: chardet<5,>=3.0.2 in c:\\users\\patryk\\appdata\\local\\programs\\python\\python38\\lib\\site-packages (from requests) (4.0.0)\n",
      "Requirement already satisfied: idna<3,>=2.5 in c:\\users\\patryk\\appdata\\local\\programs\\python\\python38\\lib\\site-packages (from requests) (2.10)\n",
      "Requirement already satisfied: certifi>=2017.4.17 in c:\\users\\patryk\\appdata\\local\\programs\\python\\python38\\lib\\site-packages (from requests) (2020.12.5)\n",
      "Collecting pandas\n",
      "  Downloading pandas-1.2.3-cp38-cp38-win_amd64.whl (9.3 MB)\n",
      "Requirement already satisfied: python-dateutil>=2.7.3 in c:\\users\\patryk\\appdata\\roaming\\python\\python38\\site-packages (from pandas) (2.8.1)\n",
      "Collecting pytz>=2017.3\n",
      "  Downloading pytz-2021.1-py2.py3-none-any.whl (510 kB)\n",
      "Collecting numpy>=1.16.5\n",
      "  Downloading numpy-1.20.1-cp38-cp38-win_amd64.whl (13.7 MB)\n",
      "Requirement already satisfied: six>=1.5 in c:\\users\\patryk\\appdata\\roaming\\python\\python38\\site-packages (from python-dateutil>=2.7.3->pandas) (1.15.0)\n",
      "Installing collected packages: pytz, numpy, pandas\n",
      "Successfully installed numpy-1.20.1 pandas-1.2.3 pytz-2021.1\n",
      "Collecting matplotlib\n",
      "  Using cached matplotlib-3.3.4-cp38-cp38-win_amd64.whl (8.5 MB)\n",
      "Requirement already satisfied: numpy>=1.15 in c:\\users\\patryk\\appdata\\local\\programs\\python\\python38\\lib\\site-packages (from matplotlib) (1.20.1)\n",
      "Requirement already satisfied: pyparsing!=2.0.4,!=2.1.2,!=2.1.6,>=2.0.3 in c:\\users\\patryk\\appdata\\local\\programs\\python\\python38\\lib\\site-packages (from matplotlib) (2.4.7)\n",
      "Collecting pillow>=6.2.0\n",
      "  Downloading Pillow-8.1.1-cp38-cp38-win_amd64.whl (2.2 MB)\n",
      "Requirement already satisfied: python-dateutil>=2.1 in c:\\users\\patryk\\appdata\\roaming\\python\\python38\\site-packages (from matplotlib) (2.8.1)\n",
      "Collecting cycler>=0.10\n",
      "  Using cached cycler-0.10.0-py2.py3-none-any.whl (6.5 kB)\n",
      "Collecting kiwisolver>=1.0.1\n",
      "  Using cached kiwisolver-1.3.1-cp38-cp38-win_amd64.whl (51 kB)\n",
      "Requirement already satisfied: six in c:\\users\\patryk\\appdata\\roaming\\python\\python38\\site-packages (from cycler>=0.10->matplotlib) (1.15.0)\n",
      "Installing collected packages: pillow, kiwisolver, cycler, matplotlib\n",
      "Successfully installed cycler-0.10.0 kiwisolver-1.3.1 matplotlib-3.3.4 pillow-8.1.1\n",
      "Requirement already satisfied: numpy in c:\\users\\patryk\\appdata\\local\\programs\\python\\python38\\lib\\site-packages (1.20.1)\n",
      "Collecting scipy\n",
      "  Downloading scipy-1.6.1-cp38-cp38-win_amd64.whl (32.7 MB)\n",
      "Requirement already satisfied: numpy>=1.16.5 in c:\\users\\patryk\\appdata\\local\\programs\\python\\python38\\lib\\site-packages (from scipy) (1.20.1)\n",
      "Installing collected packages: scipy\n",
      "Successfully installed scipy-1.6.1\n",
      "Collecting sklearn\n",
      "  Downloading sklearn-0.0.tar.gz (1.1 kB)\n",
      "Collecting scikit-learn\n",
      "  Downloading scikit_learn-0.24.1-cp38-cp38-win_amd64.whl (6.9 MB)\n",
      "Requirement already satisfied: numpy>=1.13.3 in c:\\users\\patryk\\appdata\\local\\programs\\python\\python38\\lib\\site-packages (from scikit-learn->sklearn) (1.20.1)\n",
      "Collecting joblib>=0.11\n",
      "  Downloading joblib-1.0.1-py3-none-any.whl (303 kB)\n",
      "Requirement already satisfied: scipy>=0.19.1 in c:\\users\\patryk\\appdata\\local\\programs\\python\\python38\\lib\\site-packages (from scikit-learn->sklearn) (1.6.1)\n",
      "Collecting threadpoolctl>=2.0.0\n",
      "  Downloading threadpoolctl-2.1.0-py3-none-any.whl (12 kB)\n",
      "Using legacy 'setup.py install' for sklearn, since package 'wheel' is not installed.\n",
      "Installing collected packages: threadpoolctl, joblib, scikit-learn, sklearn\n",
      "    Running setup.py install for sklearn: started\n",
      "    Running setup.py install for sklearn: finished with status 'done'\n",
      "Successfully installed joblib-1.0.1 scikit-learn-0.24.1 sklearn-0.0 threadpoolctl-2.1.0\n"
     ]
    }
   ],
   "source": [
    "!pip install requests\n",
    "!pip install pandas\n",
    "!pip install matplotlib\n",
    "!pip install numpy\n",
    "!pip install scipy\n",
    "!pip install sklearn\n",
    "!pip install pandoc"
   ]
  },
  {
   "cell_type": "markdown",
   "id": "located-liquid",
   "metadata": {},
   "source": [
    "**Get data data:**"
   ]
  },
  {
   "cell_type": "code",
   "execution_count": 51,
   "id": "planned-thanksgiving",
   "metadata": {},
   "outputs": [],
   "source": [
    "import requests\n",
    "\n",
    "target_url_kroa100 = \"http://elib.zib.de/pub/mp-testdata/tsp/tsplib/tsp/kroA100.tsp\"\n",
    "target_url_krob100 = \"http://elib.zib.de/pub/mp-testdata/tsp/tsplib/tsp/kroB100.tsp\"\n",
    "\n",
    "def get_file_from_url(target_url):\n",
    "    file = requests.get(target_url)\n",
    "    return file.text\n",
    "    "
   ]
  },
  {
   "cell_type": "markdown",
   "id": "fiscal-editing",
   "metadata": {},
   "source": [
    "**Output test:**"
   ]
  },
  {
   "cell_type": "code",
   "execution_count": 67,
   "id": "welcome-baseball",
   "metadata": {
    "collapsed": true
   },
   "outputs": [
    {
     "name": "stdout",
     "output_type": "stream",
     "text": [
      "['1', '1380', '939']\n",
      "['2', '2848', '96']\n",
      "['3', '3510', '1671']\n",
      "['4', '457', '334']\n",
      "['5', '3888', '666']\n",
      "['6', '984', '965']\n",
      "['7', '2721', '1482']\n",
      "['8', '1286', '525']\n",
      "['9', '2716', '1432']\n",
      "['10', '738', '1325']\n",
      "['11', '1251', '1832']\n",
      "['12', '2728', '1698']\n",
      "['13', '3815', '169']\n",
      "['14', '3683', '1533']\n",
      "['15', '1247', '1945']\n",
      "['16', '123', '862']\n",
      "['17', '1234', '1946']\n",
      "['18', '252', '1240']\n",
      "['19', '611', '673']\n",
      "['20', '2576', '1676']\n",
      "['21', '928', '1700']\n",
      "['22', '53', '857']\n",
      "['23', '1807', '1711']\n",
      "['24', '274', '1420']\n",
      "['25', '2574', '946']\n",
      "['26', '178', '24']\n",
      "['27', '2678', '1825']\n",
      "['28', '1795', '962']\n",
      "['29', '3384', '1498']\n",
      "['30', '3520', '1079']\n",
      "['31', '1256', '61']\n",
      "['32', '1424', '1728']\n",
      "['33', '3913', '192']\n",
      "['34', '3085', '1528']\n",
      "['35', '2573', '1969']\n",
      "['36', '463', '1670']\n",
      "['37', '3875', '598']\n",
      "['38', '298', '1513']\n",
      "['39', '3479', '821']\n",
      "['40', '2542', '236']\n",
      "['41', '3955', '1743']\n",
      "['42', '1323', '280']\n",
      "['43', '3447', '1830']\n",
      "['44', '2936', '337']\n",
      "['45', '1621', '1830']\n",
      "['46', '3373', '1646']\n",
      "['47', '1393', '1368']\n",
      "['48', '3874', '1318']\n",
      "['49', '938', '955']\n",
      "['50', '3022', '474']\n",
      "['51', '2482', '1183']\n",
      "['52', '3854', '923']\n",
      "['53', '376', '825']\n",
      "['54', '2519', '135']\n",
      "['55', '2945', '1622']\n",
      "['56', '953', '268']\n",
      "['57', '2628', '1479']\n",
      "['58', '2097', '981']\n",
      "['59', '890', '1846']\n",
      "['60', '2139', '1806']\n",
      "['61', '2421', '1007']\n",
      "['62', '2290', '1810']\n",
      "['63', '1115', '1052']\n",
      "['64', '2588', '302']\n",
      "['65', '327', '265']\n",
      "['66', '241', '341']\n",
      "['67', '1917', '687']\n",
      "['68', '2991', '792']\n",
      "['69', '2573', '599']\n",
      "['70', '19', '674']\n",
      "['71', '3911', '1673']\n",
      "['72', '872', '1559']\n",
      "['73', '2863', '558']\n",
      "['74', '929', '1766']\n",
      "['75', '839', '620']\n",
      "['76', '3893', '102']\n",
      "['77', '2178', '1619']\n",
      "['78', '3822', '899']\n",
      "['79', '378', '1048']\n",
      "['80', '1178', '100']\n",
      "['81', '2599', '901']\n",
      "['82', '3416', '143']\n",
      "['83', '2961', '1605']\n",
      "['84', '611', '1384']\n",
      "['85', '3113', '885']\n",
      "['86', '2597', '1830']\n",
      "['87', '2586', '1286']\n",
      "['88', '161', '906']\n",
      "['89', '1429', '134']\n",
      "['90', '742', '1025']\n",
      "['91', '1625', '1651']\n",
      "['92', '1187', '706']\n",
      "['93', '1787', '1009']\n",
      "['94', '22', '987']\n",
      "['95', '3640', '43']\n",
      "['96', '3756', '882']\n",
      "['97', '776', '392']\n",
      "['98', '1724', '1642']\n",
      "['99', '198', '1810']\n",
      "['100', '3950', '1558']\n"
     ]
    }
   ],
   "source": [
    "data = get_file_from_url(target_url_kroa100)\n",
    "for line in data.split(\"\\n\")[6:-2]:\n",
    "    print(line.split())"
   ]
  },
  {
   "cell_type": "code",
   "execution_count": 68,
   "id": "sustained-malawi",
   "metadata": {},
   "outputs": [],
   "source": [
    "def get_lat_lon(list_of_cords):\n",
    "    return zip(*[(int(i.split()[1]), int(i.split()[2])) for i in list_of_cords])\n",
    "\n",
    "cords = data.split(\"\\n\")[6:-2]\n",
    "lat, lon = get_lat_lon(cords)\n",
    "assert len(lat) == 100\n",
    "assert len(lon) == 100"
   ]
  },
  {
   "cell_type": "markdown",
   "id": "floppy-affiliation",
   "metadata": {},
   "source": [
    "**Calculate matrix**"
   ]
  },
  {
   "cell_type": "code",
   "execution_count": 69,
   "id": "measured-isolation",
   "metadata": {},
   "outputs": [
    {
     "name": "stdout",
     "output_type": "stream",
     "text": [
      "      0     1     2     3     4     5     6     7     8     9   ...    90  \\\n",
      "0      0  1693  2252  1104  2523   397  1447   425  1424   749  ...   753   \n",
      "1   1693     0  1708  2403  1186  2057  1392  1620  1343  2442  ...  1978   \n",
      "2   2252  1708     0  3333  1074  2623   811  2502   829  2794  ...  1885   \n",
      "3   1104  2403  3333     0  3447   822  2538   851  2512  1030  ...  1760   \n",
      "4   2523  1186  1074  3447     0  2919  1424  2606  1400  3218  ...  2468   \n",
      "..   ...   ...   ...   ...   ...   ...   ...   ...   ...   ...  ...   ...   \n",
      "95  2377  1201   826  3344   253  2773  1196  2496  1176  3050  ...  2266   \n",
      "96   815  2093  3018   324  3124   610  2230   527  2201   934  ...  1519   \n",
      "97   783  1911  1786  1821  2374  1003  1010  1200  1014  1036  ...    99   \n",
      "98  1468  3156  3315  1499  3863  1154  2544  1684  2546   726  ...  1436   \n",
      "99  2643  1831   454  3701   894  3025  1231  2857  1240  3220  ...  2327   \n",
      "\n",
      "      91    92    93    94    95    96    97    98    99  \n",
      "0    303   413  1359  2431  2377   815   783  1468  2643  \n",
      "1   1769  1400  2963   794  1201  2093  1911  3156  1831  \n",
      "2   2515  1846  3554  1633   826  3018  1786  3315   454  \n",
      "3    819  1491   785  3196  3344   324  1821  1499  3701  \n",
      "4   2701  2129  3879   671   253  3124  2374  3863   894  \n",
      "..   ...   ...   ...   ...   ...   ...   ...   ...   ...  \n",
      "95  2575  1973  3735   847     0  3020  2169  3677   703  \n",
      "96   517  1184   960  2885  3020     0  1569  1531  3381  \n",
      "97  1079   636  1824  2496  2169  1569     0  1535  2228  \n",
      "98  1482  1779   842  3869  3677  1531  1535     0  3760  \n",
      "99  2891  2232  3969  1546   703  3381  2228  3760     0  \n",
      "\n",
      "[100 rows x 100 columns]\n"
     ]
    }
   ],
   "source": [
    "import pandas as pd\n",
    "import numpy as np\n",
    "import math\n",
    "\n",
    "def calc_matrix(lat, lon):\n",
    "    matrix_size = len(lat)\n",
    "    matrix = pd.DataFrame(0, index=np.arange(matrix_size), columns=np.arange(matrix_size))\n",
    "    for row in range(matrix.shape[0]):\n",
    "        for col in range(row, matrix.shape[1]):\n",
    "            if row == col:\n",
    "                matrix.iat[row, col] = 0\n",
    "            else:\n",
    "                matrix.iat[row, col] = matrix.iat[col, row] =  round(math.sqrt(((lat[col]-lat[row])**2)+((lon[col]-lon[row])**2)))\n",
    "    \n",
    "    return matrix\n",
    "test = calc_matrix(lat,lon)\n",
    "print(test)"
   ]
  }
 ],
 "metadata": {
  "kernelspec": {
   "display_name": "jupaem",
   "language": "python",
   "name": "jupaem"
  },
  "language_info": {
   "codemirror_mode": {
    "name": "ipython",
    "version": 3
   },
   "file_extension": ".py",
   "mimetype": "text/x-python",
   "name": "python",
   "nbconvert_exporter": "python",
   "pygments_lexer": "ipython3",
   "version": "3.8.3rc1"
  }
 },
 "nbformat": 4,
 "nbformat_minor": 5
}
